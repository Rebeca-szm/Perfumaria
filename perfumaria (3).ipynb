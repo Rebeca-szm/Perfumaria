{
  "nbformat": 4,
  "nbformat_minor": 0,
  "metadata": {
    "colab": {
      "provenance": []
    },
    "kernelspec": {
      "name": "python3",
      "display_name": "Python 3"
    },
    "language_info": {
      "name": "python"
    }
  },
  "cells": [
    {
      "cell_type": "code",
      "source": [
        "from collections import deque\n",
        "\n",
        "fila = []\n",
        "cont = 0\n",
        "\n",
        "while cont < 15:\n",
        "  n_produto = input(\"Digite o produto que deseja adicionar ao carrinho ou se deseja sair: \")\n",
        "  fila.append(n_produto)\n",
        "  if n_produto != 'sair':\n",
        "   print(f'Produto', n_produto, 'adicionado ao carrinho.')\n",
        "  cont += 1\n",
        "  if n_produto == 'sair':\n",
        "    break\n",
        "    print(fila)\n",
        "print(\"1 - Realizar a compra\")\n",
        "print(\"2 - Continuar comprando\")\n",
        "compra = input(\"Digite a opção desejada: \")\n",
        "if compra == '1':\n",
        "    fila.clear()\n",
        "    print(\"Compra realizada com sucesso!\")\n",
        "\n",
        "else:\n",
        " print(\"Continuar comprando\")\n",
        " while cont < 15:\n",
        "  n_produto = input(\"Digite o produto que deseja adicionar ao carrinho ou se deseja sair: \")\n",
        "  fila.append(n_produto)\n",
        "  if n_produto != 'sair':\n",
        "   print(f'Produto', n_produto, 'adicionado ao carrinho.')\n",
        "  cont += 1\n",
        "  if n_produto == 'sair':\n",
        "    break\n",
        "    print(fila)\n",
        "\n",
        "print(fila)"
      ],
      "metadata": {
        "colab": {
          "base_uri": "https://localhost:8080/"
        },
        "id": "QPYlIxR4MyJU",
        "outputId": "d5ab100c-a01c-4283-fa56-0efb9b15341c"
      },
      "execution_count": 76,
      "outputs": [
        {
          "output_type": "stream",
          "name": "stdout",
          "text": [
            "Digite o produto que deseja adicionar ao carrinho ou se deseja sair: perfume\n",
            "Produto perfume adicionado ao carrinho.\n",
            "Digite o produto que deseja adicionar ao carrinho ou se deseja sair: hidratante\n",
            "Produto hidratante adicionado ao carrinho.\n",
            "Digite o produto que deseja adicionar ao carrinho ou se deseja sair: sair\n",
            "1 - Realizar a compra\n",
            "2 - Continuar comprando\n",
            "Digite a opção desejada: 1\n",
            "Compra realizada com sucesso!\n",
            "[]\n"
          ]
        }
      ]
    }
  ]
}