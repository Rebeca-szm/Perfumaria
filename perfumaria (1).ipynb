{
  "cells": [
    {
      "cell_type": "markdown",
      "metadata": {
        "id": "acZqnGdP8t8h"
      },
      "source": [
        "### **login e logout - vetor**\n",
        "### **dados de usuário logado - matriz**"
      ]
    },
    {
      "cell_type": "code",
      "source": [
        "import numpy as np\n",
        "\n",
        "v_usuarios = np.array([\"ana\", \"bruno\", \"carla\"])\n",
        "v_senhas = np.array([\"1234\", \"abcd\", \"senha\"])\n",
        "usuario_logado = None\n",
        "cont = 0\n",
        "\n",
        "while True:\n",
        "    if usuario_logado:\n",
        "        print(f\"\\nUsuário logado: {usuario_logado.capitalize()}\")\n",
        "        print(\"1. Logout\")\n",
        "        print(\"2. Sair\")\n",
        "        opcao = input(\"Escolha uma opção: \")\n",
        "\n",
        "        if opcao == '1':\n",
        "            print(f\"{usuario_logado.capitalize()} deslogado com sucesso!\")\n",
        "            usuario_logado = None\n",
        "            cont = 0\n",
        "\n",
        "        elif opcao == '2':\n",
        "            print(\"Saindo...\")\n",
        "            break\n",
        "\n",
        "        else:\n",
        "            print(\"Opção inválida!\")\n",
        "\n",
        "    else:\n",
        "        if cont >= 3:\n",
        "            print(\"Número máximo de tentativas excedido. Saindo...\")\n",
        "            break\n",
        "\n",
        "        print(\"\\nLogin\")\n",
        "        print(\"1. Entrar\")\n",
        "        print(\"2. Criar novo usuário\")\n",
        "        print(\"3. Sair\")\n",
        "        escolha = input(\"Escolha uma opção: \")\n",
        "\n",
        "        if escolha == '1':\n",
        "            usuario_input = input('Digite seu usuário: ').lower()\n",
        "            senha_input = input('Digite sua senha: ')\n",
        "\n",
        "\n",
        "            if usuario_input in v_usuarios:\n",
        "                idx = np.where(v_usuarios == usuario_input)[0][0]\n",
        "                if v_senhas[idx] == senha_input:\n",
        "                    print(f\"Acesso permitido. Seja bem-vindo(a), {usuario_input.capitalize()}!\")\n",
        "                    usuario_logado = usuario_input\n",
        "                    cont = 0\n",
        "                else:\n",
        "                    print(\"Senha incorreta.\")\n",
        "                    cont += 1\n",
        "            else:\n",
        "                print(\"Usuário não encontrado.\")\n",
        "                cont += 1\n",
        "\n",
        "        elif escolha == '2':\n",
        "            novo_usuario = input(\"Digite o novo nome de usuário: \").lower()\n",
        "            if novo_usuario in v_usuarios:\n",
        "                print(\"Esse nome de usuário já existe. Tente outro.\")\n",
        "            else:\n",
        "                nova_senha = input(\"Digite a nova senha: \")\n",
        "                v_usuarios = np.append(v_usuarios, novo_usuario)\n",
        "                v_senhas = np.append(v_senhas, nova_senha)\n",
        "                usuario_logado = novo_usuario\n",
        "                cont = 0\n",
        "                print(f\"Usuário {novo_usuario.capitalize()} criado com sucesso e logado!\")\n",
        "\n",
        "        elif escolha == '3':\n",
        "            print(\"Saindo...\")\n",
        "            break\n",
        "\n",
        "        else:\n",
        "            print(\"Opção inválida!\")"
      ],
      "metadata": {
        "colab": {
          "base_uri": "https://localhost:8080/"
        },
        "id": "GLhvGwl8v4Ht",
        "outputId": "bdee5f83-bd14-40fd-d8b0-2c5cda987366"
      },
      "execution_count": 12,
      "outputs": [
        {
          "output_type": "stream",
          "name": "stdout",
          "text": [
            "\n",
            "Login\n",
            "1. Entrar\n",
            "2. Criar novo usuário\n",
            "3. Sair\n",
            "Escolha uma opção: 1\n",
            "Digite seu usuário: Bruno\n",
            "Digite sua senha: abcd\n",
            "Acesso permitido. Seja bem-vindo(a), Bruno!\n",
            "\n",
            "Usuário logado: Bruno\n",
            "1. Logout\n",
            "2. Sair\n",
            "Escolha uma opção: 1\n",
            "Bruno deslogado com sucesso!\n",
            "\n",
            "Login\n",
            "1. Entrar\n",
            "2. Criar novo usuário\n",
            "3. Sair\n",
            "Escolha uma opção: 2\n",
            "Digite o novo nome de usuário: Bruno\n",
            "Esse nome de usuário já existe. Tente outro.\n",
            "\n",
            "Login\n",
            "1. Entrar\n",
            "2. Criar novo usuário\n",
            "3. Sair\n",
            "Escolha uma opção: 2\n",
            "Digite o novo nome de usuário: Bruna\n",
            "Digite a nova senha: 1606\n",
            "Usuário Bruna criado com sucesso e logado!\n",
            "\n",
            "Usuário logado: Bruna\n",
            "1. Logout\n",
            "2. Sair\n",
            "Escolha uma opção: 1\n",
            "Bruna deslogado com sucesso!\n",
            "\n",
            "Login\n",
            "1. Entrar\n",
            "2. Criar novo usuário\n",
            "3. Sair\n",
            "Escolha uma opção: 1\n",
            "Digite seu usuário: bruna\n",
            "Digite sua senha: 1606\n",
            "Acesso permitido. Seja bem-vindo(a), Bruna!\n",
            "\n",
            "Usuário logado: Bruna\n",
            "1. Logout\n",
            "2. Sair\n",
            "Escolha uma opção: 2\n",
            "Saindo...\n"
          ]
        }
      ]
    },
    {
      "cell_type": "code",
      "execution_count": 8,
      "metadata": {
        "colab": {
          "base_uri": "https://localhost:8080/"
        },
        "id": "Os32xsh96WxB",
        "outputId": "5cf86a07-29e5-4fff-f079-3f18bf47563f"
      },
      "outputs": [
        {
          "output_type": "stream",
          "name": "stdout",
          "text": [
            "Digite o nome do usuário (ou 'sair' para encerrar): ama\n",
            "Digite a senha: 1234\n",
            "Usuário não encontrado.\n",
            "Digite o nome do usuário (ou 'sair' para encerrar): ana\n",
            "Digite a senha: 1234\n",
            "Ana está logado.\n",
            "Digite o nome do usuário (ou 'sair' para encerrar): Bruno\n",
            "Digite a senha: abcd\n",
            "Bruno está logado.\n",
            "Digite o nome do usuário (ou 'sair' para encerrar): sair\n",
            "Programa encerrado.\n"
          ]
        }
      ],
      "source": [
        "usuarios = [\n",
        "  [\"ana\", \"1234\", True],\n",
        "  [\"bruno\", \"abcd\", True],\n",
        "  [\"carla\", \"senha\", True]\n",
        "]\n",
        "\n",
        "while True:\n",
        "  nome = input(\"Digite o nome do usuário (ou 'sair' para encerrar): \")\n",
        "  if nome.lower() == \"sair\":\n",
        "    print(\"Programa encerrado.\")\n",
        "    break\n",
        "\n",
        "  senha = input(\"Digite a senha: \")\n",
        "\n",
        "  logado = False\n",
        "  for u in usuarios:\n",
        "    if u[0].lower() == nome.lower():\n",
        "      logado = True\n",
        "      if u[1] == senha:\n",
        "        if u[2]:\n",
        "          print(f\"{u[0]} está logado.\")\n",
        "        else:\n",
        "          print(f\"{u[0]} não está logado.\")\n",
        "      else:\n",
        "        print(\"Senha incorreta.\")\n",
        "      break\n",
        "\n",
        "  if not logado:\n",
        "    print(\"Usuário não encontrado.\")"
      ]
    }
  ],
  "metadata": {
    "colab": {
      "provenance": []
    },
    "kernelspec": {
      "display_name": "Python 3",
      "name": "python3"
    },
    "language_info": {
      "name": "python"
    }
  },
  "nbformat": 4,
  "nbformat_minor": 0
}