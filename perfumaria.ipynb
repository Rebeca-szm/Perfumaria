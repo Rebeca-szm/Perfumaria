{
  "nbformat": 4,
  "nbformat_minor": 0,
  "metadata": {
    "colab": {
      "provenance": []
    },
    "kernelspec": {
      "name": "python3",
      "display_name": "Python 3"
    },
    "language_info": {
      "name": "python"
    }
  },
  "cells": [
    {
      "cell_type": "code",
      "source": [
        "produtos =\n",
        "carinho_compras = deque(input(f'Os produtos adicionados são:', ))"
      ],
      "metadata": {
        "id": "QxQlvOdIw8ug"
      },
      "execution_count": null,
      "outputs": []
    },
    {
      "cell_type": "code",
      "source": [
        "carrinho = CarrinhoCompras()\n",
        "produtos = ({\"nome\": \"Perfume Floral\", \"categoria\": \"Perfumes\", \"preco\": 129.90},\n",
        "{\"nome\": \"Colônia Masculina\", \"categoria\": \"Perfumes\", \"preco\": 99.50},\n",
        "{\"nome\": \"Creme Hidratante\", \"categoria\": \"Cuidados com a Pele\", \"preco\": 45.00},\n",
        "{\"nome\": \"Sabonete Líquido\", \"categoria\": \"Higiene\", \"preco\": 22.30},\n",
        "{\"nome\": \"Loção Pós-Barba\", \"categoria\": \"Barbear\", \"preco\": 38.90},\n",
        "{\"nome\": \"Shampoo Reconstrutor\", \"categoria\": \"Cabelos\", \"preco\": 29.90},\n",
        "{\"nome\": \"Condicionador\", \"categoria\": \"Cabelos\", \"preco\": 28.50},\n",
        "{\"nome\": \"Óleo Corporal\", \"categoria\": \"Cuidados com a Pele\", \"preco\": 58.00},\n",
        "{\"nome\": \"Desodorante Roll-on\", \"categoria\": \"Higiene\", \"preco\": 14.20},\n",
        "{\"nome\": \"Máscara Capilar\", \"categoria\": \"Cabelos\", \"preco\": 67.80})\n",
        "\n",
        "\n",
        "while True:\n",
        "    print(\"\\n--- MENU DO CARRINHO ---\")\n",
        "    print(\"1 - Adicionar item\")\n",
        "    print(\"2 - Remover item\")\n",
        "    print(\"3 - Listar itens\")\n",
        "    print(\"4 - Mostrar total\")\n",
        "    print(\"5 - Continuar a comprando\")\n",
        "    opcao = input(\"Escolha uma opção: \")\n",
        "\n",
        "    if opcao == '1':\n",
        "        print(produtos)\n",
        "        nome = input(\"Nome do produto: \")\n",
        "        quantidade = int(input(\"Quantidade: \"))\n",
        "        carrinho.adicionar_item(nome, preco, quantidade)\n",
        "        print(f\"Produto {nome} adicionado ao carrinho.\")\n",
        "\n",
        "    elif opcao == '2':\n",
        "        carrinho.remover_item()\n",
        "\n",
        "    elif opcao == '3':\n",
        "        carrinho.listar_itens(produtos)\n",
        "\n",
        "    elif opcao == '4':\n",
        "        total = carrinho.calcular_total()\n",
        "        print(f\"Total do carrinho: R${total:.2f}\")\n",
        "\n",
        "    elif opcao == '5':\n",
        "        print(\"Continuar comprando\")\n",
        "        break\n",
        "\n",
        "    else:\n",
        "        print(\"Opção inválida, tente novamente.\")"
      ],
      "metadata": {
        "colab": {
          "base_uri": "https://localhost:8080/"
        },
        "id": "rUvV5IVn5JD_",
        "outputId": "102911e7-9ad2-4932-a597-d54603aa7f4a"
      },
      "execution_count": null,
      "outputs": [
        {
          "output_type": "stream",
          "name": "stdout",
          "text": [
            "\n",
            "--- MENU DO CARRINHO ---\n",
            "1 - Adicionar item\n",
            "2 - Remover item\n",
            "3 - Listar itens\n",
            "4 - Mostrar total\n",
            "5 - Comprar\n",
            "Escolha uma opção: 1\n",
            "({'nome': 'Perfume Floral', 'categoria': 'Perfumes', 'preco': 129.9}, {'nome': 'Colônia Masculina', 'categoria': 'Perfumes', 'preco': 99.5}, {'nome': 'Creme Hidratante', 'categoria': 'Cuidados com a Pele', 'preco': 45.0}, {'nome': 'Sabonete Líquido', 'categoria': 'Higiene', 'preco': 22.3}, {'nome': 'Loção Pós-Barba', 'categoria': 'Barbear', 'preco': 38.9}, {'nome': 'Shampoo Reconstrutor', 'categoria': 'Cabelos', 'preco': 29.9}, {'nome': 'Condicionador', 'categoria': 'Cabelos', 'preco': 28.5}, {'nome': 'Óleo Corporal', 'categoria': 'Cuidados com a Pele', 'preco': 58.0}, {'nome': 'Desodorante Roll-on', 'categoria': 'Higiene', 'preco': 14.2}, {'nome': 'Máscara Capilar', 'categoria': 'Cabelos', 'preco': 67.8})\n",
            "Nome do produto: Perfume Floral\n",
            "Quantidade: 1\n",
            "Produto Perfume Floral adicionado ao carrinho.\n",
            "\n",
            "--- MENU DO CARRINHO ---\n",
            "1 - Adicionar item\n",
            "2 - Remover item\n",
            "3 - Listar itens\n",
            "4 - Mostrar total\n",
            "5 - Comprar\n",
            "Escolha uma opção: 4\n",
            "Total do carrinho: R$129.90\n",
            "\n",
            "--- MENU DO CARRINHO ---\n",
            "1 - Adicionar item\n",
            "2 - Remover item\n",
            "3 - Listar itens\n",
            "4 - Mostrar total\n",
            "5 - Comprar\n"
          ]
        }
      ]
    }
  ]
}