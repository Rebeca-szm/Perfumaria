{
  "nbformat": 4,
  "nbformat_minor": 0,
  "metadata": {
    "colab": {
      "provenance": []
    },
    "kernelspec": {
      "name": "python3",
      "display_name": "Python 3"
    },
    "language_info": {
      "name": "python"
    }
  },
  "cells": [
    {
      "cell_type": "markdown",
      "source": [
        "### **login e logout - vetor**\n",
        "### **dados de usuário logado - matriz**"
      ],
      "metadata": {
        "id": "acZqnGdP8t8h"
      }
    },
    {
      "cell_type": "code",
      "source": [
        "import numpy as np\n",
        "\n",
        "usuario_logado = None\n",
        "cont = 0\n",
        "\n",
        "while True:\n",
        "    if usuario_logado:\n",
        "        print(f\"\\nUsuário logado: {usuario_logado}\")\n",
        "        print(\"1. Logout\")\n",
        "        print(\"2. Sair\")\n",
        "        opcao = input(\"Escolha uma opção: \")\n",
        "\n",
        "        if opcao == '1':\n",
        "            print(f\"{usuario_logado} deslogado com sucesso!\")\n",
        "            usuario_logado = None\n",
        "            cont = 0\n",
        "\n",
        "        elif opcao == '2':\n",
        "            print(\"Saindo...\")\n",
        "            break\n",
        "\n",
        "        else:\n",
        "            print(\"Opção inválida!\")\n",
        "\n",
        "    else:\n",
        "        if cont >= 3:\n",
        "            print(\"Número máximo de tentativas excedido. Saindo...\")\n",
        "            break\n",
        "\n",
        "        print(\"Login\")\n",
        "        usuario_input = input('Digite seu usuário: ')\n",
        "        senha_input = input('Digite sua senha: ')\n",
        "\n",
        "        if usuario_input in v_usuarios:\n",
        "            idx = v_usuarios.index(usuario_input)\n",
        "            if v_senhas[idx] == senha_input:\n",
        "                print(f\"Acesso permitido. Seja bem-vindo(a), {usuario_input}!\")\n",
        "                usuario_logado = usuario_input\n",
        "                cont = 0\n",
        "            else:\n",
        "                print(\"Senha incorreta.\")\n",
        "                cont += 1\n",
        "        else:\n",
        "            print(\"Usuário não en1contrado.\")\n",
        "            cont += 1\n"
      ],
      "metadata": {
        "id": "4jXYpg3_xD4b",
        "colab": {
          "base_uri": "https://localhost:8080/"
        },
        "outputId": "25cc82b5-bcec-4692-c311-cc237079712c"
      },
      "execution_count": 21,
      "outputs": [
        {
          "output_type": "stream",
          "name": "stdout",
          "text": [
            "Login\n",
            "Digite seu usuário: maria\n",
            "Digite sua senha: 1606\n",
            "Acesso permitido. Seja bem-vindo(a), maria!\n",
            "\n",
            "Usuário logado: maria\n",
            "1. Logout\n",
            "2. Sair\n",
            "Escolha uma opção: 1\n",
            "maria deslogado com sucesso!\n",
            "Login\n",
            "Digite seu usuário: maria\n",
            "Digite sua senha: 1606\n",
            "Acesso permitido. Seja bem-vindo(a), maria!\n",
            "\n",
            "Usuário logado: maria\n",
            "1. Logout\n",
            "2. Sair\n",
            "Escolha uma opção: 1\n",
            "maria deslogado com sucesso!\n",
            "Login\n",
            "Digite seu usuário: isabela\n",
            "Digite sua senha: 1234\n",
            "Acesso permitido. Seja bem-vindo(a), isabela!\n",
            "\n",
            "Usuário logado: isabela\n",
            "1. Logout\n",
            "2. Sair\n",
            "Escolha uma opção: 2\n",
            "Saindo...\n"
          ]
        }
      ]
    },
    {
      "cell_type": "code",
      "source": [
        "usuarios = [\n",
        "  [\"Ana\", \"1234\", True],\n",
        "  [\"Bruno\", \"abcd\", True],\n",
        "  [\"Carla\", \"senha\", True]\n",
        "]\n",
        "\n",
        "while True:\n",
        "  nome = input(\"Digite o nome do usuário (ou 'sair' para encerrar): \")\n",
        "  if nome.lower() == \"sair\":\n",
        "    print(\"Programa encerrado.\")\n",
        "    break\n",
        "\n",
        "  senha = input(\"Digite a senha: \")\n",
        "\n",
        "  logado = False\n",
        "  for u in usuarios:\n",
        "    if u[0].lower() == nome.lower():\n",
        "      logado = True\n",
        "      if u[1] == senha:\n",
        "        if u[2]:\n",
        "          print(f\"{u[0]} está logado.\")\n",
        "        else:\n",
        "          print(f\"{u[0]} não está logado.\")\n",
        "      else:\n",
        "        print(\"Senha incorreta.\")\n",
        "      break\n",
        "\n",
        "  if not logado:\n",
        "    print(\"Usuário não encontrado.\")"
      ],
      "metadata": {
        "colab": {
          "base_uri": "https://localhost:8080/"
        },
        "id": "Os32xsh96WxB",
        "outputId": "6298ba97-8554-4d42-add8-2d5e3102b7ae"
      },
      "execution_count": 20,
      "outputs": [
        {
          "output_type": "stream",
          "name": "stdout",
          "text": [
            "Digite o nome do usuário (ou 'sair' para encerrar): ana\n",
            "Digite a senha: 1234\n",
            "Ana está logado.\n",
            "Digite o nome do usuário (ou 'sair' para encerrar): sair\n",
            "Programa encerrado.\n"
          ]
        }
      ]
    }
  ]
}