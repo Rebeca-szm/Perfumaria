{
  "nbformat": 4,
  "nbformat_minor": 0,
  "metadata": {
    "colab": {
      "provenance": []
    },
    "kernelspec": {
      "name": "python3",
      "display_name": "Python 3"
    },
    "language_info": {
      "name": "python"
    }
  },
  "cells": [
    {
      "cell_type": "markdown",
      "source": [
        "# formas de pagamento"
      ],
      "metadata": {
        "id": "rDUpKCi-yIzB"
      }
    },
    {
      "cell_type": "code",
      "source": [
        "formas_pagamento = [\"PIX\", \"Cartão\", \"Boleto\"]\n",
        "\n",
        "while True:\n",
        "    print(\"\\n MENU FORMAS DE PAGAMENTO\")\n",
        "    print(\"1. Ver formas de pagamento\")\n",
        "    print(\"2. Efetuar pagamento\")\n",
        "    print(\"3. Sair\")\n",
        "\n",
        "    opcao = input(\"Escolha uma opção: \")\n",
        "\n",
        "    if opcao == \"1\":\n",
        "        print(\"Formas de pagamento disponíveis:\")\n",
        "        print(\"1. PIX\")\n",
        "        print(\"2. Cartão\")\n",
        "        print(\"3. Boleto\")\n",
        "\n",
        "    elif opcao == \"2\":\n",
        "        print(\"Escolha a forma de pagamento:\")\n",
        "        print(\"1. PIX\")\n",
        "        print(\"2. Cartão\")\n",
        "        print(\"3. Boleto\")\n",
        "        escolha = input(\"Digite o número da forma: \")\n",
        "\n",
        "        if escolha == \"1\":\n",
        "            nome = input(\"Digite seu nome: \")\n",
        "            chave = input(\"Digite a chave PIX: \")\n",
        "            valor = input(\"Digite o valor: \")\n",
        "            print(f\"\\nVocê vai pagar R${valor} via PIX para {nome}, chave: {chave}\")\n",
        "            confirma = input(\"Confirma o pagamento? (s/n): \")\n",
        "            if confirma.lower() == \"s\":\n",
        "                print(\"Pagamento via PIX feito com sucesso!\")\n",
        "            else:\n",
        "                print(\"Pagamento cancelado.\")\n",
        "\n",
        "        elif escolha == \"2\":\n",
        "            nome = input(\"Digite seu nome: \")\n",
        "            cartao = input(\"Número do cartão: \")\n",
        "            tipo = input(\"Digite '1' para crédito ou '2' para débito: \")\n",
        "\n",
        "            valor = input(\"Digite o valor: \")\n",
        "\n",
        "            if tipo == \"1\":\n",
        "                parcelas = input(\"Em quantas parcelas deseja pagar? \")\n",
        "                print(f\"\\nVocê vai pagar R${valor} em {parcelas}x no cartão de crédito para {nome}, cartão: ****{cartao[-4:]}\")\n",
        "            elif tipo == \"2\":\n",
        "                parcelas = \"1\"\n",
        "                print(f\"\\nVocê vai pagar R${valor} no cartão de débito para {nome}, cartão: ****{cartao[-4:]}\")\n",
        "            else:\n",
        "                print(\"Tipo de cartão inválido.\")\n",
        "                continue  # volta para o menu\n",
        "\n",
        "            confirma = input(\"Confirma o pagamento? (s/n): \")\n",
        "            if confirma.lower() == \"s\":\n",
        "                print(\"Pagamento com cartão feito com sucesso!\")\n",
        "            else:\n",
        "                print(\"Pagamento cancelado.\")\n",
        "\n",
        "        elif escolha == \"3\":\n",
        "            nome = input(\"Digite seu nome: \")\n",
        "            cpf = input(\"Digite seu CPF: \")\n",
        "            valor = input(\"Digite o valor: \")\n",
        "            parcelas = input(\"Em quantas parcelas deseja pagar o boleto? \")\n",
        "            print(f\"\\nVocê vai gerar boleto no valor de R${valor} dividido em {parcelas}x para {nome}, CPF: {cpf}\")\n",
        "            confirma = input(\"Confirma o pagamento? (s/n): \")\n",
        "            if confirma.lower() == \"s\":\n",
        "                print(\"Boleto gerado com sucesso!\")\n",
        "            else:\n",
        "                print(\"Pagamento cancelado.\")\n",
        "\n",
        "        else:\n",
        "            print(\"Opção inválida.\")\n",
        "\n",
        "    elif opcao == \"3\":\n",
        "        print(\"Saindo...\")\n",
        "        break\n",
        "\n",
        "    else:\n",
        "        print(\"Opção inválida.\")\n",
        "\n"
      ],
      "metadata": {
        "colab": {
          "base_uri": "https://localhost:8080/"
        },
        "id": "rRbOqn3x6wLx",
        "outputId": "5fd10291-6711-4fb4-c104-10700a552356"
      },
      "execution_count": 7,
      "outputs": [
        {
          "output_type": "stream",
          "name": "stdout",
          "text": [
            "\n",
            " MENU FORMAS DE PAGAMENTO\n",
            "1. Ver formas de pagamento\n",
            "2. Efetuar pagamento\n",
            "3. Sair\n",
            "Escolha uma opção: 3\n",
            "Saindo...\n"
          ]
        }
      ]
    }
  ]
}